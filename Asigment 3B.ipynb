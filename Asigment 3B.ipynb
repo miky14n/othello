{
 "cells": [
  {
   "cell_type": "code",
   "execution_count": 9,
   "metadata": {},
   "outputs": [
    {
     "name": "stdout",
     "output_type": "stream",
     "text": [
      "Posición seleccionada: (6, 4)\n",
      "Posición seleccionada: (6, 3)\n"
     ]
    }
   ],
   "source": [
    "import tkinter as tk\n",
    "\n",
    "# Tamaño del tablero (8x8)\n",
    "board_size = 8\n",
    "\n",
    "# Inicializar los colores de las casillas\n",
    "white_color = 'white'\n",
    "black_color = 'black'\n",
    "default_color = 'lightblue'\n",
    "board = [[' ' for _ in range(board_size)] for _ in range(board_size)]\n",
    "\n",
    "# Función para crear una casilla en el tablero\n",
    "def crear_casilla(tablero, row, col, color=default_color):\n",
    "    button = tk.Button(tablero, text='', command=lambda r=row, c=col: pintar_casilla(r, c), width=3, bg=color)\n",
    "    button.grid(row=row + 1, column=col + 1)\n",
    "    return button\n",
    "\n",
    "# Función para pintar una casilla\n",
    "def pintar_casilla(row, col):\n",
    "    if board[row][col] == ' ':\n",
    "        color = white_color if current_color == 'W' else black_color\n",
    "        board[row][col] = current_color\n",
    "        crear_casilla(tablero, row, col, color)\n",
    "        cambiar_color()\n",
    "        imprimir_coordenadas(row, col)  # Imprimir las coordenadas al seleccionar una casilla\n",
    "\n",
    "# Función para cambiar el color actual\n",
    "def cambiar_color():\n",
    "    global current_color\n",
    "    current_color = 'W' if current_color == 'B' else 'B'\n",
    "    label_color.config(text=f'Color actual: {current_color}')\n",
    "\n",
    "def imprimir_coordenadas(row, col):\n",
    "    print(f\"Posición seleccionada: ({row}, {col})\")\n",
    "\n",
    "root = tk.Tk()\n",
    "root.title('Othello')\n",
    "\n",
    "tablero = tk.Frame(root)\n",
    "tablero.pack()\n",
    "\n",
    "current_color = 'B'\n",
    "\n",
    "label_color = tk.Label(root, text=f'Color actual: {current_color}')\n",
    "label_color.pack()\n",
    "\n",
    "def darw_map():\n",
    "    for i in range(board_size):\n",
    "        tk.Label(tablero, text=str(i + 1), width=3).grid(row=i + 1, column=0)\n",
    "        tk.Label(tablero, text=chr(ord('A') + i), width=3).grid(row=0, column=i + 1)\n",
    "\n",
    "    # Crear los botones del tablero\n",
    "    for row in range(board_size):\n",
    "        for col in range(board_size):\n",
    "            if (row == 3 and col == 3) or (row == 4 and col == 4):\n",
    "                crear_casilla(tablero, row, col, 'white')\n",
    "            elif (row == 3 and col == 4) or (row == 4 and col == 3):\n",
    "                crear_casilla(tablero, row, col, 'black')\n",
    "            else:\n",
    "                crear_casilla(tablero, row, col)\n",
    "\n",
    "darw_map()\n",
    "root.mainloop()\n"
   ]
  },
  {
   "cell_type": "code",
   "execution_count": null,
   "metadata": {},
   "outputs": [],
   "source": []
  }
 ],
 "metadata": {
  "kernelspec": {
   "display_name": "Python 3 (ipykernel)",
   "language": "python",
   "name": "python3"
  },
  "language_info": {
   "codemirror_mode": {
    "name": "ipython",
    "version": 3
   },
   "file_extension": ".py",
   "mimetype": "text/x-python",
   "name": "python",
   "nbconvert_exporter": "python",
   "pygments_lexer": "ipython3",
   "version": "3.11.3"
  }
 },
 "nbformat": 4,
 "nbformat_minor": 2
}

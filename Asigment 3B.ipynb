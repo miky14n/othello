{
 "cells": [
  {
   "cell_type": "code",
   "execution_count": null,
   "metadata": {},
   "outputs": [],
   "source": [
    "import tkinter as tk"
   ]
  },
  {
   "cell_type": "code",
   "execution_count": 15,
   "metadata": {},
   "outputs": [],
   "source": [
    "board_size = 8\n",
    "\n",
    "# Inicializar los colores de las casillas\n",
    "white_color = 'white'\n",
    "black_color = 'black'\n",
    "default_color = 'lightblue'\n",
    "board = [[' ' for _ in range(board_size)] for _ in range(board_size)]\n",
    "board[3][3] = board[4][4] = 'W'\n",
    "board[3][4] = board[4][3] = 'B'"
   ]
  },
  {
   "cell_type": "code",
   "execution_count": 14,
   "metadata": {},
   "outputs": [],
   "source": [
    "points_direction = {\n",
    "    0: 'N',\n",
    "    1: 'NE',\n",
    "    2: 'E',\n",
    "    3: 'SE',\n",
    "    4: 'S',\n",
    "    5: 'SO',\n",
    "    6: 'O',\n",
    "    7: 'NO'\n",
    "}\n",
    "directions = [(-1, 0), (-1, 1), (0, 1), (1, 1), (1, 0), (1, -1), (0, -1), (-1, -1)]\n",
    "\n",
    "def check_mov_direction(row, col):\n",
    "    pos=0\n",
    "    direction_check=[]\n",
    "    check =False\n",
    "    for dr, dc in directions:\n",
    "        if(board[row+dr][col+dc]=='B'):\n",
    "            direction_check.append(points_direction[pos])\n",
    "            check= True\n",
    "        pos+=1       \n",
    "    return direction_check,check\n",
    "def check_mov(row, col,direction_check, player):\n",
    "    coor_repaint=[]\n",
    "    for dir in direction_check:\n",
    "        x,y=row, col\n",
    "        if dir == \"N\":\n",
    "            while board[y][x] != player and  board[y][x] != ' ':\n",
    "               coor_repaint.append(x,y) \n",
    "               y-=1\n",
    "               x+=1 \n",
    "        elif dir == \"NE\":\n",
    "            while board[y][x] != player and  board[y][x] != ' ':\n",
    "               coor_repaint.append(x,y) \n",
    "               y-=1\n",
    "               x+=1  \n",
    "        elif dir == \"E\":\n",
    "            while board[y][x] != player and  board[y][x] != ' ':\n",
    "               coor_repaint.append(x,y) \n",
    "               x+=1 \n",
    "        elif dir == \"SE\":\n",
    "            while board[y][x] != player and  board[y][x] != ' ':\n",
    "               coor_repaint.append(x,y) \n",
    "               y+=1\n",
    "               x+=1 \n",
    "        elif dir == \"S\":\n",
    "            while board[y][x] != player and  board[y][x] != ' ':\n",
    "               coor_repaint.append(x,y) \n",
    "               y+=1\n",
    "                \n",
    "        elif dir == \"SO\":\n",
    "            while board[y][x] != player and  board[y][x] != ' ':\n",
    "               coor_repaint.append(x,y) \n",
    "               y+=1\n",
    "               x-=1 \n",
    "        elif dir == \"O\":\n",
    "            while board[y][x] != player and  board[y][x] != ' ':\n",
    "               coor_repaint.append(x,y) \n",
    "               x-=1\n",
    "        elif dir == \"NO\":\n",
    "            while board[y][x] != player and  board[y][x] != ' ':\n",
    "               coor_repaint.append(x,y) \n",
    "               y-=1\n",
    "               x-=1 \n",
    "        else:\n",
    "            pass \n",
    "            \n",
    "    return coor_repaint"
   ]
  },
  {
   "cell_type": "code",
   "execution_count": 18,
   "metadata": {},
   "outputs": [
    {
     "name": "stdout",
     "output_type": "stream",
     "text": [
      "Posición seleccionada: (3, 2)\n",
      "Posición seleccionada: (3, 2)\n"
     ]
    }
   ],
   "source": [
    "\n",
    "\n",
    "# Tamaño del tablero (8x8)\n",
    "\n",
    "# Función para crear una casilla en el tablero\n",
    "def crear_casilla(tablero, row, col, color=default_color):\n",
    "    button = tk.Button(tablero, text='', command=lambda r=row, c=col: pintar_casilla(r, c), width=3, bg=color)\n",
    "    button.grid(row=row + 1, column=col + 1)\n",
    "    return button\n",
    "\n",
    "# Función para pintar una casilla\n",
    "def pintar_casilla(row, col):\n",
    "    if board[row][col] == ' ':\n",
    "        direction_check,check= check_mov_direction(row, col)\n",
    "        if check:\n",
    "            color = white_color if current_color == 'W' else black_color\n",
    "            coor_repaint= check_mov(row, col,direction_check, color)\n",
    "            for y,x in coor_repaint:\n",
    "                print(coor_repaint)\n",
    "                break\n",
    "                board[y][x] = current_color\n",
    "                crear_casilla(tablero, y, x, color)\n",
    "                cambiar_color()\n",
    "            imprimir_coordenadas(row, col)  \n",
    "# Función para cambiar el color actual\n",
    "def cambiar_color():\n",
    "    global current_color\n",
    "    current_color = 'W' if current_color == 'B' else 'B'\n",
    "    label_color.config(text=f'Color actual: {current_color}')\n",
    "\n",
    "def imprimir_coordenadas(row, col):\n",
    "    print(f\"Posición seleccionada: ({row}, {col})\")\n",
    "\n",
    "root = tk.Tk()\n",
    "root.title('Othello')\n",
    "\n",
    "tablero = tk.Frame(root)\n",
    "tablero.pack()\n",
    "\n",
    "current_color = 'B'\n",
    "\n",
    "label_color = tk.Label(root, text=f'Color actual: {current_color}')\n",
    "label_color.pack()\n",
    "\n",
    "def darw_map():\n",
    "    for i in range(board_size):\n",
    "        tk.Label(tablero, text=str(i + 1), width=3).grid(row=i + 1, column=0)\n",
    "        tk.Label(tablero, text=chr(ord('A') + i), width=3).grid(row=0, column=i + 1)\n",
    "\n",
    "    # Crear los botones del tablero\n",
    "    for row in range(board_size):\n",
    "        for col in range(board_size):\n",
    "            if (row == 3 and col == 3) or (row == 4 and col == 4):\n",
    "                crear_casilla(tablero, row, col, 'white')\n",
    "            elif (row == 3 and col == 4) or (row == 4 and col == 3):\n",
    "                crear_casilla(tablero, row, col, 'black')\n",
    "            else:\n",
    "                crear_casilla(tablero, row, col)\n",
    "\n",
    "darw_map()\n",
    "root.mainloop()\n"
   ]
  },
  {
   "cell_type": "code",
   "execution_count": 13,
   "metadata": {},
   "outputs": [],
   "source": []
  },
  {
   "cell_type": "code",
   "execution_count": 12,
   "metadata": {},
   "outputs": [
    {
     "data": {
      "text/plain": [
       "[['B', ' ', ' ', ' ', ' ', ' ', ' ', ' '],\n",
       " [' ', ' ', ' ', ' ', ' ', ' ', ' ', ' '],\n",
       " [' ', ' ', ' ', ' ', ' ', ' ', ' ', ' '],\n",
       " [' ', ' ', ' ', 'W', 'B', ' ', ' ', ' '],\n",
       " [' ', ' ', ' ', 'B', 'W', ' ', ' ', ' '],\n",
       " [' ', ' ', ' ', ' ', ' ', ' ', ' ', ' '],\n",
       " [' ', ' ', ' ', ' ', ' ', ' ', ' ', ' '],\n",
       " [' ', ' ', ' ', ' ', ' ', ' ', ' ', ' ']]"
      ]
     },
     "execution_count": 12,
     "metadata": {},
     "output_type": "execute_result"
    }
   ],
   "source": [
    "board"
   ]
  },
  {
   "cell_type": "code",
   "execution_count": null,
   "metadata": {},
   "outputs": [],
   "source": []
  }
 ],
 "metadata": {
  "kernelspec": {
   "display_name": "Python 3 (ipykernel)",
   "language": "python",
   "name": "python3"
  },
  "language_info": {
   "codemirror_mode": {
    "name": "ipython",
    "version": 3
   },
   "file_extension": ".py",
   "mimetype": "text/x-python",
   "name": "python",
   "nbconvert_exporter": "python",
   "pygments_lexer": "ipython3",
   "version": "3.11.3"
  }
 },
 "nbformat": 4,
 "nbformat_minor": 2
}

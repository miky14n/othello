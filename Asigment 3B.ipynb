{
 "cells": [
  {
   "cell_type": "code",
   "execution_count": 1,
   "metadata": {},
   "outputs": [],
   "source": [
    "import tkinter as tk"
   ]
  },
  {
   "cell_type": "code",
   "execution_count": 2,
   "metadata": {},
   "outputs": [
    {
     "name": "stdout",
     "output_type": "stream",
     "text": [
      "[[' ', ' ', ' ', ' ', ' ', ' ', ' ', ' '], [' ', ' ', ' ', ' ', ' ', ' ', ' ', ' '], [' ', ' ', ' ', ' ', ' ', ' ', ' ', ' '], [' ', ' ', ' ', 'W', 'B', ' ', ' ', ' '], [' ', ' ', ' ', 'B', 'W', ' ', ' ', ' '], [' ', ' ', ' ', ' ', ' ', ' ', ' ', ' '], [' ', ' ', ' ', ' ', ' ', ' ', ' ', ' '], [' ', ' ', ' ', ' ', ' ', ' ', ' ', ' ']]\n"
     ]
    }
   ],
   "source": [
    "board_size = 8\n",
    "\n",
    "# Inicializar los colores de las casillas\n",
    "white_color = 'white'\n",
    "black_color = 'black'\n",
    "default_color = 'lightblue'\n",
    "board = [[' ' for _ in range(board_size)] for _ in range(board_size)]\n",
    "board[3][3] = board[4][4] = 'W'\n",
    "board[3][4] = board[4][3] = 'B'\n",
    "print(board)"
   ]
  },
  {
   "cell_type": "code",
   "execution_count": 3,
   "metadata": {},
   "outputs": [],
   "source": [
    "points_direction = {\n",
    "    0: 'N',\n",
    "    1: 'NE',\n",
    "    2: 'E',\n",
    "    3: 'SE',\n",
    "    4: 'S',\n",
    "    5: 'SO',\n",
    "    6: 'O',\n",
    "    7: 'NO'\n",
    "}\n",
    "directions = [(-1, 0), (-1, 1), (0, 1), (1, 1), (1, 0), (1, -1), (0, -1), (-1, -1)]\n",
    "\n",
    "def check_mov_direction(row, col,player):\n",
    "    pos=0\n",
    "    direction_check=[]\n",
    "    check =False\n",
    "    if player == \"black\":\n",
    "        openent= 'W'\n",
    "    else:\n",
    "        openent= 'B'\n",
    "    for dr, dc in directions:\n",
    "        if(board[row+dr][col+dc]==openent):\n",
    "            direction_check.append(points_direction[pos])\n",
    "            \n",
    "            check= True\n",
    "        pos+=1   \n",
    "    print(direction_check)    \n",
    "    return direction_check,check\n",
    "def check_mov(row, col,direction_check, player):\n",
    "    coor_repaint=[]\n",
    "    if player == \"black\":\n",
    "        openent= 'W'\n",
    "    else:\n",
    "        openent= 'B'\n",
    "    for dir in direction_check:\n",
    "        y,x=row, col\n",
    "        print(\"La direccion\",dir, \"filas y col\",row, col)\n",
    "        if dir == 'N':\n",
    "            while board[y][x] == openent or  board[y][x] == ' ':\n",
    "               coor_repaint.append((y,x)) \n",
    "               y-=1\n",
    "               x+=1 \n",
    "        elif dir == 'NE':\n",
    "            while board[y][x] == openent or  board[y][x] == ' ':\n",
    "               coor_repaint.append((y,x)) \n",
    "               y-=1\n",
    "               x+=1  \n",
    "        elif dir == 'E':\n",
    "            while board[y][x] == openent or  board[y][x] == ' ' :\n",
    "               coor_repaint.append((y,x)) \n",
    "               x+=1 \n",
    "        elif dir == 'SE':\n",
    "            while board[y][x] == openent or  board[y][x] == ' ':\n",
    "               coor_repaint.append((y,x)) \n",
    "               y+=1\n",
    "               x+=1 \n",
    "        elif dir == 'S':\n",
    "            while board[y][x] == openent or  board[y][x] == ' ':\n",
    "               coor_repaint.append((y,x)) \n",
    "               y+=1\n",
    "                \n",
    "        elif dir == 'SO':\n",
    "            while board[y][x] == openent or  board[y][x] == ' ':\n",
    "               coor_repaint.append((y,x)) \n",
    "               y+=1\n",
    "               x-=1 \n",
    "        elif dir == 'O':\n",
    "            while board[y][x] == openent or  board[y][x] == ' ':\n",
    "               coor_repaint.append((y,x)) \n",
    "               x-=1\n",
    "        elif dir == 'NO':\n",
    "            while board[y][x] == openent or  board[y][x] == ' ':\n",
    "               coor_repaint.append((y,x)) \n",
    "               y-=1\n",
    "               x-=1 \n",
    "        else:\n",
    "            pass \n",
    "    print(\"LAs coor a repintar son\", coor_repaint)       \n",
    "    return coor_repaint"
   ]
  },
  {
   "cell_type": "code",
   "execution_count": 4,
   "metadata": {},
   "outputs": [
    {
     "name": "stdout",
     "output_type": "stream",
     "text": [
      "['S']\n",
      "ES el turno de black\n",
      "La direccion S filas y col 2 3\n",
      "LAs coor a repintar son [(2, 3), (3, 3)]\n",
      "Posición seleccionada: (2, 3)\n",
      "['NE', 'E']\n",
      "ES el turno de white\n",
      "La direccion NE filas y col 4 2\n"
     ]
    },
    {
     "name": "stderr",
     "output_type": "stream",
     "text": [
      "Exception in Tkinter callback\n",
      "Traceback (most recent call last):\n",
      "  File \"c:\\Users\\miky1\\anaconda3\\Lib\\tkinter\\__init__.py\", line 1948, in __call__\n",
      "    return self.func(*args)\n",
      "           ^^^^^^^^^^^^^^^^\n",
      "  File \"C:\\Users\\miky1\\AppData\\Local\\Temp\\ipykernel_7248\\2304341914.py\", line 5, in <lambda>\n",
      "    button = tk.Button(tablero, text='', command=lambda r=row, c=col: pintar_casilla(r, c), width=3, bg=color)\n",
      "                                                                      ^^^^^^^^^^^^^^^^^^^^\n",
      "  File \"C:\\Users\\miky1\\AppData\\Local\\Temp\\ipykernel_7248\\2304341914.py\", line 16, in pintar_casilla\n",
      "    coor_repaint= check_mov(row, col,direction_check, color)\n",
      "                  ^^^^^^^^^^^^^^^^^^^^^^^^^^^^^^^^^^^^^^^^^^\n",
      "  File \"C:\\Users\\miky1\\AppData\\Local\\Temp\\ipykernel_7248\\1159174302.py\", line 44, in check_mov\n",
      "    while board[y][x] == openent or  board[y][x] == ' ':\n",
      "          ~~~~~~~~^^^\n",
      "IndexError: list index out of range\n"
     ]
    },
    {
     "name": "stdout",
     "output_type": "stream",
     "text": [
      "['NE', 'E']\n",
      "ES el turno de white\n",
      "La direccion NE filas y col 4 2\n"
     ]
    },
    {
     "name": "stderr",
     "output_type": "stream",
     "text": [
      "Exception in Tkinter callback\n",
      "Traceback (most recent call last):\n",
      "  File \"c:\\Users\\miky1\\anaconda3\\Lib\\tkinter\\__init__.py\", line 1948, in __call__\n",
      "    return self.func(*args)\n",
      "           ^^^^^^^^^^^^^^^^\n",
      "  File \"C:\\Users\\miky1\\AppData\\Local\\Temp\\ipykernel_7248\\2304341914.py\", line 5, in <lambda>\n",
      "    button = tk.Button(tablero, text='', command=lambda r=row, c=col: pintar_casilla(r, c), width=3, bg=color)\n",
      "                                                                      ^^^^^^^^^^^^^^^^^^^^\n",
      "  File \"C:\\Users\\miky1\\AppData\\Local\\Temp\\ipykernel_7248\\2304341914.py\", line 16, in pintar_casilla\n",
      "    coor_repaint= check_mov(row, col,direction_check, color)\n",
      "                  ^^^^^^^^^^^^^^^^^^^^^^^^^^^^^^^^^^^^^^^^^^\n",
      "  File \"C:\\Users\\miky1\\AppData\\Local\\Temp\\ipykernel_7248\\1159174302.py\", line 44, in check_mov\n",
      "    while board[y][x] == openent or  board[y][x] == ' ':\n",
      "          ~~~~~~~~^^^\n",
      "IndexError: list index out of range\n"
     ]
    }
   ],
   "source": [
    "\n",
    "\n",
    "# Tamaño del tablero (8x8)\n",
    "\n",
    "# Función para crear una casilla en el tablero\n",
    "def crear_casilla(tablero, row, col, color=default_color):\n",
    "    button = tk.Button(tablero, text='', command=lambda r=row, c=col: pintar_casilla(r, c), width=3, bg=color)\n",
    "    button.grid(row=row + 1, column=col + 1)\n",
    "    return button\n",
    "\n",
    "# Función para pintar una casilla\n",
    "def pintar_casilla(row, col):\n",
    "    if board[row][col] == ' ':\n",
    "        color = white_color if current_color == 'W' else black_color\n",
    "        direction_check,check= check_mov_direction(row, col, color)\n",
    "        print(\"ES el turno de\",color)\n",
    "        if check:\n",
    "            coor_repaint= check_mov(row, col,direction_check, color)\n",
    "           \n",
    "            for y,x in coor_repaint:\n",
    "                board[y][x] = current_color\n",
    "                crear_casilla(tablero, y, x, color)\n",
    "            imprimir_coordenadas(row, col)  \n",
    "            cambiar_color()\n",
    "# Función para cambiar el color actual\n",
    "def cambiar_color():\n",
    "    global current_color\n",
    "    current_color = 'W' if current_color == 'B' else 'B'\n",
    "    label_color.config(text=f'Color actual: {current_color}')\n",
    "\n",
    "def imprimir_coordenadas(row, col):\n",
    "    print(f\"Posición seleccionada: ({row}, {col})\")\n",
    "\n",
    "root = tk.Tk()\n",
    "root.title('Othello')\n",
    "\n",
    "tablero = tk.Frame(root)\n",
    "tablero.pack()\n",
    "\n",
    "current_color = 'B'\n",
    "\n",
    "label_color = tk.Label(root, text=f'Color actual: {current_color}')\n",
    "label_color.pack()\n",
    "\n",
    "def darw_map():\n",
    "    for i in range(board_size):\n",
    "        tk.Label(tablero, text=str(i + 1), width=3).grid(row=i + 1, column=0)\n",
    "        tk.Label(tablero, text=chr(ord('A') + i), width=3).grid(row=0, column=i + 1)\n",
    "\n",
    "    # Crear los botones del tablero\n",
    "    for row in range(board_size):\n",
    "        for col in range(board_size):\n",
    "            if (row == 3 and col == 3) or (row == 4 and col == 4):\n",
    "                crear_casilla(tablero, row, col, 'white')\n",
    "            elif (row == 3 and col == 4) or (row == 4 and col == 3):\n",
    "                crear_casilla(tablero, row, col, 'black')\n",
    "            else:\n",
    "                crear_casilla(tablero, row, col)\n",
    "\n",
    "darw_map()\n",
    "root.mainloop()\n"
   ]
  },
  {
   "cell_type": "code",
   "execution_count": 5,
   "metadata": {},
   "outputs": [
    {
     "data": {
      "text/plain": [
       "'NE'"
      ]
     },
     "execution_count": 5,
     "metadata": {},
     "output_type": "execute_result"
    }
   ],
   "source": [
    "points_direction[1]"
   ]
  },
  {
   "cell_type": "code",
   "execution_count": 6,
   "metadata": {},
   "outputs": [
    {
     "data": {
      "text/plain": [
       "'B'"
      ]
     },
     "execution_count": 6,
     "metadata": {},
     "output_type": "execute_result"
    }
   ],
   "source": [
    "board[2][3]"
   ]
  },
  {
   "cell_type": "code",
   "execution_count": null,
   "metadata": {},
   "outputs": [],
   "source": []
  }
 ],
 "metadata": {
  "kernelspec": {
   "display_name": "Python 3 (ipykernel)",
   "language": "python",
   "name": "python3"
  },
  "language_info": {
   "codemirror_mode": {
    "name": "ipython",
    "version": 3
   },
   "file_extension": ".py",
   "mimetype": "text/x-python",
   "name": "python",
   "nbconvert_exporter": "python",
   "pygments_lexer": "ipython3",
   "version": "3.11.3"
  }
 },
 "nbformat": 4,
 "nbformat_minor": 2
}
